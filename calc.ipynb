{
 "cells": [
  {
   "cell_type": "markdown",
   "id": "3def9ca460c89293",
   "metadata": {},
   "source": [
    "時系列データをベクトルに。"
   ]
  },
  {
   "cell_type": "code",
   "execution_count": 2,
   "id": "initial_id",
   "metadata": {
    "ExecuteTime": {
     "end_time": "2024-04-18T05:16:45.965237Z",
     "start_time": "2024-04-18T05:16:45.962692Z"
    },
    "collapsed": true,
    "jupyter": {
     "outputs_hidden": true
    }
   },
   "outputs": [],
   "source": [
    "movie1_tempos = [2, 3, 6, 6, 7, 8, 9, 2]\n",
    "movie2_tempos = [1, 2, 4, 3, 6, 7, 7, 4]\n",
    "movie3_tempos = [2, 3, 4, 4, 3, 4, 3, 3]"
   ]
  },
  {
   "cell_type": "code",
   "execution_count": 6,
   "id": "8423f251f5bccce5",
   "metadata": {
    "ExecuteTime": {
     "end_time": "2024-04-18T05:17:04.164769Z",
     "start_time": "2024-04-18T05:17:04.160970Z"
    }
   },
   "outputs": [],
   "source": [
    "import numpy as np\n",
    "\n",
    "\n",
    "def cos_sim(v1, v2):\n",
    "    return np.dot(v1, v2) / (np.linalg.norm(v1) * np.linalg.norm(v2))"
   ]
  },
  {
   "cell_type": "code",
   "execution_count": 8,
   "id": "c2e308b017c0203f",
   "metadata": {
    "ExecuteTime": {
     "end_time": "2024-04-18T05:18:31.004438Z",
     "start_time": "2024-04-18T05:18:31.000900Z"
    }
   },
   "outputs": [],
   "source": [
    "movie1_tempos_vec = np.array(movie1_tempos)\n",
    "movie2_tempos_vec = np.array(movie2_tempos)\n",
    "movie3_tempos_vec = np.array(movie3_tempos)"
   ]
  },
  {
   "cell_type": "code",
   "execution_count": 11,
   "id": "b7fefb5d5334b5a6",
   "metadata": {
    "ExecuteTime": {
     "end_time": "2024-04-18T05:34:24.820238Z",
     "start_time": "2024-04-18T05:34:24.812230Z"
    }
   },
   "outputs": [
    {
     "name": "stdout",
     "output_type": "stream",
     "text": [
      "0.9703192436662148\n",
      "0.9314998320119154\n"
     ]
    }
   ],
   "source": [
    "print(cos_sim(movie1_tempos_vec, movie2_tempos_vec))\n",
    "print(cos_sim(movie1_tempos_vec, movie3_tempos_vec))"
   ]
  },
  {
   "cell_type": "markdown",
   "id": "3f65f2293517819f",
   "metadata": {},
   "source": [
    "楽曲データをベクトルに。"
   ]
  },
  {
   "metadata": {},
   "cell_type": "code",
   "outputs": [],
   "execution_count": 12,
   "source": [
    "# gyakuten01 = [\n",
    "#     [0.0197, 9, 147.887, 0.323],\n",
    "#     [0.442, 0, 99.94, 0.00509],\n",
    "# ]\n",
    "# gyakuten03 = [\n",
    "#     [0.309, 9, 138.488, 0.647],\n",
    "#     [0.859, 10, 175.272, 0.713],\n",
    "# ]\n",
    "# haikyu = [\n",
    "#     [0.0332, 0, 122.949, 0.942],\n",
    "#     [0.153, 5, 92.091, 0.57],\n",
    "# ]"
   ],
   "id": "ef4c3d20dea63504"
  },
  {
   "cell_type": "code",
   "execution_count": 16,
   "id": "c810f5dea0c49c45",
   "metadata": {
    "ExecuteTime": {
     "end_time": "2024-04-18T06:52:43.444763Z",
     "start_time": "2024-04-18T06:52:43.436643Z"
    }
   },
   "outputs": [],
   "source": [
    "# gyakuten01_mat = np.matrix(gyakuten01)\n",
    "# gyakuten03_mat = np.matrix(gyakuten03)\n",
    "# haikyu_mat = np.matrix(haikyu)"
   ]
  },
  {
   "cell_type": "code",
   "execution_count": 18,
   "id": "c5ceec72fd366c7",
   "metadata": {
    "ExecuteTime": {
     "end_time": "2024-04-18T06:58:07.843334Z",
     "start_time": "2024-04-18T06:58:07.834350Z"
    }
   },
   "outputs": [
    {
     "name": "stdout",
     "output_type": "stream",
     "text": [
      "[[1.37339103e-05 2.02797060e-05]\n",
      " [2.11802104e-03 1.63173020e-03]]\n"
     ]
    }
   ],
   "source": [
    "# import scipy.spatial as sp\n",
    "# \n",
    "# print(sp.distance.cdist(gyakuten01_mat, gyakuten03_mat, 'cosine'))"
   ]
  },
  {
   "cell_type": "code",
   "id": "4d992e0c2d2f51de",
   "metadata": {
    "ExecuteTime": {
     "end_time": "2024-04-18T09:39:23.436556Z",
     "start_time": "2024-04-18T09:39:23.323040Z"
    }
   },
   "source": [
    "from shapely.geometry import Polygon\n",
    "import matplotlib.pyplot as plt\n",
    "\n",
    "gyakuten01 = Polygon([(0, 0), (15, 2), (10, 44), (10, 79)])\n",
    "gyakuten03 = Polygon([(0, 0), (14, 31), (18, 86), (9, 49)])\n",
    "haikuy = Polygon([(0, 0), (12, 3), (9, 15), (10, 28)])\n",
    "\n",
    "gyakuten01_x, gyakuten01_y = gyakuten01.exterior.xy\n",
    "plt.plot(gyakuten01_x, gyakuten01_y, color='lightblue')\n",
    "# gyakuten03_x, gyakuten03_y = gyakuten03.exterior.xy\n",
    "# plt.plot(gyakuten03_x, gyakuten03_y, color='red')\n",
    "haikuy_x, haikuy_y = haikuy.exterior.xy\n",
    "plt.plot(haikuy_x, haikuy_y, color='lightgreen')\n",
    "\n",
    "# 逆転裁判1と逆転裁判3\n",
    "# intersect = gyakuten01.intersection(gyakuten03).area\n",
    "# union = gyakuten01.union(gyakuten03).area\n",
    "# iou = intersect / union\n",
    "# print(iou)\n",
    "# 逆転裁判1とハイキュー\n",
    "intersect = gyakuten01.intersection(haikuy).area\n",
    "union = gyakuten01.union(haikuy).area\n",
    "iou = intersect / union\n",
    "print(iou)"
   ],
   "outputs": [
    {
     "name": "stdout",
     "output_type": "stream",
     "text": [
      "0.25757575757575757\n"
     ]
    },
    {
     "data": {
      "text/plain": [
       "<Figure size 640x480 with 1 Axes>"
      ],
      "image/png": "[encoded data removed]"
     },
     "metadata": {},
     "output_type": "display_data"
    }
   ],
   "execution_count": 43
  },
  {
   "metadata": {},
   "cell_type": "markdown",
   "source": "",
   "id": "f8bc15b155b3f7d6"
  },
  {
   "cell_type": "code",
   "execution_count": null,
   "id": "27d6f5b752dc5235",
   "metadata": {},
   "outputs": [],
   "source": []
  }
 ],
 "metadata": {
  "kernelspec": {
   "display_name": "Python 3 (ipykernel)",
   "language": "python",
   "name": "python3"
  },
  "language_info": {
   "codemirror_mode": {
    "name": "ipython",
    "version": 3
   },
   "file_extension": ".py",
   "mimetype": "text/x-python",
   "name": "python",
   "nbconvert_exporter": "python",
   "pygments_lexer": "ipython3",
   "version": "3.9.6"
  }
 },
 "nbformat": 4,
 "nbformat_minor": 5
}
