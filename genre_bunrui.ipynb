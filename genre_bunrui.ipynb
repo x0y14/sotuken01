{
 "cells": [
  {
   "metadata": {},
   "cell_type": "markdown",
   "source": [
    "## 参考\n",
    "- [機械学習でイモの分類器を作ってみる](https://sewaashi.com/python-3/)\n",
    "- [1つの画像が複数のクラスに属する場合（Multi-label）の画像分類](https://qiita.com/koshian2/items/ab5e0c68a257585d7c6f)\n",
    "- [Pythonのscikit-learnによる分類まとめ](https://qiita.com/wawana12/items/fd0a1558cbf13158aed1)\n",
    "- [今日からはじめるPython機械学習プログラミング基礎 教師あり学習その1](https://qiita.com/holy015/items/d3057f711cd251e7a2bc)"
   ],
   "id": "b29fc94e2ce715ed"
  },
  {
   "metadata": {},
   "cell_type": "markdown",
   "source": "# 2値分類: アクション作品か?",
   "id": "b67f51365741665"
  },
  {
   "metadata": {},
   "cell_type": "markdown",
   "source": "",
   "id": "4c9e0f4658c2fbbd"
  },
  {
   "metadata": {},
   "cell_type": "markdown",
   "source": "## データの準備",
   "id": "15ce292979743d57"
  },
  {
   "metadata": {},
   "cell_type": "markdown",
   "source": "### 1. DBの準備",
   "id": "1e521c05683a7048"
  },
  {
   "metadata": {
    "ExecuteTime": {
     "end_time": "2024-05-06T02:41:57.443763Z",
     "start_time": "2024-05-06T02:41:57.437428Z"
    }
   },
   "cell_type": "code",
   "source": [
    "import pandas as pd\n",
    "\n",
    "from lib.db import *\n",
    "\n",
    "DB_NAME = \"soundtrack.sqlite\"\n",
    "\n",
    "conn = connect_db(DB_NAME)\n",
    "create_albums_table_if_not_exists(conn)\n",
    "create_tracks_table_if_not_exists(conn)\n",
    "create_genres_table_if_not_exists(conn)"
   ],
   "id": "initial_id",
   "outputs": [],
   "execution_count": 548
  },
  {
   "metadata": {},
   "cell_type": "markdown",
   "source": "### 番外. ジャンル分け付されたアルバム用の型の準備",
   "id": "e19d7b84c2ba8dfa"
  },
  {
   "metadata": {
    "ExecuteTime": {
     "end_time": "2024-05-06T02:41:57.553302Z",
     "start_time": "2024-05-06T02:41:57.546529Z"
    }
   },
   "cell_type": "code",
   "source": [
    "from dataclasses import dataclass\n",
    "from typing import List\n",
    "\n",
    "\n",
    "@dataclass\n",
    "class AlbumWithGenre:\n",
    "    id: str\n",
    "    name: str\n",
    "    acousticness: float\n",
    "    danceability: float\n",
    "    duration_ms: int\n",
    "    energy: float\n",
    "    instrumentalness: float\n",
    "    key: int\n",
    "    liveness: float\n",
    "    loudness: float\n",
    "    mode: int\n",
    "    speechiness: float\n",
    "    tempo: float\n",
    "    time_signature: int\n",
    "    valence: float\n",
    "    genre: List[str]"
   ],
   "id": "2847245bc3e149ce",
   "outputs": [],
   "execution_count": 549
  },
  {
   "metadata": {},
   "cell_type": "markdown",
   "source": "### 2. (楽曲数)次元の12個のパラメータをPCAで圧縮して1次元のデータに",
   "id": "4406a655ddd1e05c"
  },
  {
   "metadata": {
    "ExecuteTime": {
     "end_time": "2024-05-06T02:41:57.863423Z",
     "start_time": "2024-05-06T02:41:57.568371Z"
    }
   },
   "cell_type": "code",
   "source": [
    "from sklearn.decomposition import PCA\n",
    "\n",
    "# 最終的に欲しいやつ\n",
    "albumWithGenres: List[AlbumWithGenre] = []\n",
    "\n",
    "# ジャンルデータが存在するアルバムをすべて取得\n",
    "album_genres = get_genre_list(conn, 200, 0)\n",
    "\n",
    "for genre in album_genres:\n",
    "    album_id = genre.id  # SPOTIFY_ALBUM_ID\n",
    "    album = get_album(conn, album_id)\n",
    "    album_name = album.name\n",
    "    album_genre_tags = genre.tags\n",
    "    album_tracks = get_tracks(conn, album_id, 100, 0)\n",
    "\n",
    "    # 曲が極端に少ない場合飛ばす\n",
    "    if len(album_tracks) < 3:\n",
    "        continue\n",
    "\n",
    "    # アルバム内の各楽曲のパラメータをまとめて各々スカラーに.(12xN -> 12x1)\n",
    "    album_acousticness = []\n",
    "    album_danceability = []\n",
    "    album_duration_ms = []\n",
    "    album_energy = []\n",
    "    album_instrumentalness = []\n",
    "    album_key = []\n",
    "    album_liveness = []\n",
    "    album_loudness = []\n",
    "    album_mode = []\n",
    "    album_speechiness = []\n",
    "    album_tempo = []\n",
    "    album_time_signature = []\n",
    "    album_valence = []\n",
    "\n",
    "    for track in album_tracks:\n",
    "        album_acousticness.append(track.acousticness)\n",
    "        album_danceability.append(track.danceability)\n",
    "        album_duration_ms.append(track.duration_ms)\n",
    "        album_energy.append(track.energy)\n",
    "        album_instrumentalness.append(track.instrumentalness)\n",
    "        album_key.append(track.key)\n",
    "        album_liveness.append(track.liveness)\n",
    "        album_loudness.append(track.loudness)\n",
    "        album_mode.append(track.mode)\n",
    "        album_speechiness.append(track.speechiness)\n",
    "        album_tempo.append(track.tempo)\n",
    "        album_time_signature.append(track.time_signature)\n",
    "        album_valence.append(track.valence)\n",
    "\n",
    "    album_matrix = [\n",
    "        album_acousticness,\n",
    "        album_danceability,\n",
    "        album_duration_ms,\n",
    "        album_energy,\n",
    "        album_instrumentalness,\n",
    "        album_key,\n",
    "        album_liveness,\n",
    "        album_loudness,\n",
    "        album_mode,\n",
    "        album_speechiness,\n",
    "        album_tempo,\n",
    "        album_time_signature,\n",
    "        album_valence\n",
    "    ]\n",
    "\n",
    "    # (楽曲数)次元から1次元に\n",
    "    pca = PCA(n_components=1)\n",
    "    album_pca = pca.fit_transform(album_matrix)\n",
    "\n",
    "    albumWithGenres.append(\n",
    "        AlbumWithGenre(\n",
    "            id=album_id,\n",
    "            name=album_name,\n",
    "            acousticness=(album_pca[0])[0],\n",
    "            danceability=(album_pca[1])[0],\n",
    "            duration_ms=(album_pca[2])[0],\n",
    "            energy=(album_pca[3])[0],\n",
    "            instrumentalness=(album_pca[4])[0],\n",
    "            key=(album_pca[5])[0],\n",
    "            liveness=(album_pca[6])[0],\n",
    "            loudness=(album_pca[7])[0],\n",
    "            mode=(album_pca[8])[0],\n",
    "            speechiness=(album_pca[9])[0],\n",
    "            tempo=(album_pca[10])[0],\n",
    "            time_signature=(album_pca[11])[0],\n",
    "            valence=(album_pca[12])[0],\n",
    "            genre=album_genre_tags\n",
    "        )\n",
    "    )"
   ],
   "id": "5d4e24231e535f81",
   "outputs": [],
   "execution_count": 550
  },
  {
   "metadata": {},
   "cell_type": "markdown",
   "source": "### 3. アクション作品か否か?にデータを作り直して使いやすいように",
   "id": "a594989a4485911"
  },
  {
   "metadata": {
    "ExecuteTime": {
     "end_time": "2024-05-06T02:41:57.869961Z",
     "start_time": "2024-05-06T02:41:57.864616Z"
    }
   },
   "cell_type": "code",
   "source": [
    "@dataclass\n",
    "class AlbumIsAction:\n",
    "    id: str\n",
    "    name: str\n",
    "    acousticness: float\n",
    "    danceability: float\n",
    "    duration_ms: int\n",
    "    energy: float\n",
    "    instrumentalness: float\n",
    "    key: int\n",
    "    liveness: float\n",
    "    loudness: float\n",
    "    mode: int\n",
    "    speechiness: float\n",
    "    tempo: float\n",
    "    time_signature: int\n",
    "    valence: float\n",
    "    isAction: int\n",
    "\n",
    "\n",
    "albumIsActions: List[dict] = []\n",
    "\n",
    "for albumWithGenre in albumWithGenres:\n",
    "    albumIsActions.append(\n",
    "        vars(\n",
    "            AlbumIsAction(\n",
    "                id=albumWithGenre.id,\n",
    "                name=albumWithGenre.name,\n",
    "                acousticness=albumWithGenre.acousticness,\n",
    "                danceability=albumWithGenre.danceability,\n",
    "                duration_ms=albumWithGenre.duration_ms,\n",
    "                energy=albumWithGenre.energy,\n",
    "                instrumentalness=albumWithGenre.instrumentalness,\n",
    "                key=albumWithGenre.key,\n",
    "                liveness=albumWithGenre.liveness,\n",
    "                loudness=albumWithGenre.loudness,\n",
    "                mode=albumWithGenre.mode,\n",
    "                speechiness=albumWithGenre.speechiness,\n",
    "                tempo=albumWithGenre.tempo,\n",
    "                time_signature=albumWithGenre.time_signature,\n",
    "                valence=albumWithGenre.valence,\n",
    "                isAction=1 if \"action\" in albumWithGenre.genre else 0\n",
    "            )\n",
    "        )\n",
    "    )"
   ],
   "id": "ac6ba884c03c24bf",
   "outputs": [],
   "execution_count": 551
  },
  {
   "metadata": {},
   "cell_type": "markdown",
   "source": "### 番外. CSVに出力してすぐ使えるように",
   "id": "d9623e144392c430"
  },
  {
   "metadata": {
    "ExecuteTime": {
     "end_time": "2024-05-06T02:41:57.879903Z",
     "start_time": "2024-05-06T02:41:57.870782Z"
    }
   },
   "cell_type": "code",
   "source": [
    "import csv\n",
    "import pandas\n",
    "\n",
    "# CSV\n",
    "# iterator_list = list(itertools.chain.from_iterable(albumIsActions))\n",
    "df = pandas.json_normalize(albumIsActions)\n",
    "df.to_csv('data.csv', index=False, encoding='utf-8', quoting=csv.QUOTE_ALL, header=False)\n"
   ],
   "id": "50caf59784fa2963",
   "outputs": [],
   "execution_count": 552
  },
  {
   "metadata": {},
   "cell_type": "markdown",
   "source": "#### 4. データの用意",
   "id": "d635573e95dc3b31"
  },
  {
   "metadata": {
    "ExecuteTime": {
     "end_time": "2024-05-06T02:41:57.887768Z",
     "start_time": "2024-05-06T02:41:57.881417Z"
    }
   },
   "cell_type": "code",
   "source": [
    "from scipy import stats\n",
    "\n",
    "# 学習用データ\n",
    "df_isAction_learn = pd.read_csv(\n",
    "    \"data.csv\",\n",
    "    names=[\n",
    "        \"id\",\n",
    "        \"name\",\n",
    "        \"acousticness\",\n",
    "        \"danceability\",\n",
    "        \"duration_ms\",\n",
    "        \"energy\",\n",
    "        \"instrumentalness\",\n",
    "        \"key\",\n",
    "        \"liveness\",\n",
    "        \"loudness\",\n",
    "        \"mode\",\n",
    "        \"speechiness\",\n",
    "        \"tempo\",\n",
    "        \"time_signature\",\n",
    "        \"valence\",\n",
    "        \"isAction\",\n",
    "    ],\n",
    "    nrows=150,  # 最初の100件\n",
    ")\n",
    "# STR列を消す\n",
    "df_isAction_learn = df_isAction_learn.drop(labels=\"id\", axis=\"columns\")\n",
    "df_isAction_learn = df_isAction_learn.drop(labels=\"name\", axis=\"columns\")\n",
    "# 答えの欄も消す\n",
    "df_isAction_learn_answers = df_isAction_learn[\"isAction\"].tolist()\n",
    "df_isAction_learn = df_isAction_learn.drop(labels=\"isAction\", axis=\"columns\")\n",
    "# 標準化\n",
    "# df_isAction_learn = df_isAction_learn.apply(stats.zscore, axis=0)"
   ],
   "id": "c3c26853c6693a2d",
   "outputs": [],
   "execution_count": 553
  },
  {
   "metadata": {
    "ExecuteTime": {
     "end_time": "2024-05-06T02:41:57.893466Z",
     "start_time": "2024-05-06T02:41:57.888356Z"
    }
   },
   "cell_type": "code",
   "source": [
    "from scipy import stats\n",
    "\n",
    "df_isAction_test = pd.read_csv(\n",
    "    \"data.csv\",\n",
    "    names=[\n",
    "        \"id\",\n",
    "        \"name\",\n",
    "        \"acousticness\",\n",
    "        \"danceability\",\n",
    "        \"duration_ms\",\n",
    "        \"energy\",\n",
    "        \"instrumentalness\",\n",
    "        \"key\",\n",
    "        \"liveness\",\n",
    "        \"loudness\",\n",
    "        \"mode\",\n",
    "        \"speechiness\",\n",
    "        \"tempo\",\n",
    "        \"time_signature\",\n",
    "        \"valence\",\n",
    "        \"isAction\",\n",
    "    ],\n",
    "    skiprows=150,  # 最初の100件飛ばす\n",
    ")\n",
    "df_isAction_test_answers = df_isAction_test[\"isAction\"].tolist()\n",
    "# 同じ分データを消す\n",
    "df_isAction_test = df_isAction_test.drop(labels=\"id\", axis=\"columns\")\n",
    "df_isAction_test = df_isAction_test.drop(labels=\"name\", axis=\"columns\")\n",
    "df_isAction_test = df_isAction_test.drop(labels=\"isAction\", axis=\"columns\")\n",
    "\n",
    "# df_isAction_test = df_isAction_test.apply(stats.zscore, axis=0)"
   ],
   "id": "903971ae86535a15",
   "outputs": [],
   "execution_count": 554
  },
  {
   "metadata": {},
   "cell_type": "markdown",
   "source": "### 5. 学習",
   "id": "913fc7f3709fdcf"
  },
  {
   "metadata": {
    "ExecuteTime": {
     "end_time": "2024-05-06T02:41:57.906718Z",
     "start_time": "2024-05-06T02:41:57.894169Z"
    }
   },
   "cell_type": "code",
   "source": [
    "from sklearn.metrics import accuracy_score\n",
    "from sklearn.svm import LinearSVC\n",
    "\n",
    "model = LinearSVC(dual=True)\n",
    "# 教師あり学習\n",
    "model.fit(df_isAction_learn, df_isAction_learn_answers)\n",
    "# 分類\n",
    "test_predict = model.predict(df_isAction_test)\n",
    "print(accuracy_score(df_isAction_test_answers, test_predict))"
   ],
   "id": "dfdc6781858bf418",
   "outputs": [
    {
     "name": "stdout",
     "output_type": "stream",
     "text": [
      "0.38095238095238093\n"
     ]
    },
    {
     "name": "stderr",
     "output_type": "stream",
     "text": [
      "/Users/x0y14/dev/sotuken01/venv/lib/python3.9/site-packages/sklearn/svm/_base.py:1237: ConvergenceWarning: Liblinear failed to converge, increase the number of iterations.\n",
      "  warnings.warn(\n"
     ]
    }
   ],
   "execution_count": 555
  },
  {
   "metadata": {
    "ExecuteTime": {
     "end_time": "2024-05-06T02:41:57.913775Z",
     "start_time": "2024-05-06T02:41:57.907931Z"
    }
   },
   "cell_type": "code",
   "source": [
    "from sklearn.linear_model import RidgeClassifier\n",
    "\n",
    "model = RidgeClassifier()\n",
    "model.fit(df_isAction_learn, df_isAction_learn_answers)\n",
    "# 分類\n",
    "test_predict = model.predict(df_isAction_test)\n",
    "print(accuracy_score(df_isAction_test_answers, test_predict))"
   ],
   "id": "1d7675e4ef0f2bc2",
   "outputs": [
    {
     "name": "stdout",
     "output_type": "stream",
     "text": [
      "0.9047619047619048\n"
     ]
    }
   ],
   "execution_count": 556
  },
  {
   "metadata": {
    "ExecuteTime": {
     "end_time": "2024-05-06T02:41:57.926740Z",
     "start_time": "2024-05-06T02:41:57.914476Z"
    }
   },
   "cell_type": "code",
   "source": [
    "from sklearn.linear_model import LogisticRegression\n",
    "\n",
    "model = LogisticRegression(max_iter=1000)\n",
    "model.fit(df_isAction_learn, df_isAction_learn_answers)\n",
    "# 分類\n",
    "test_predict = model.predict(df_isAction_test)\n",
    "print(accuracy_score(df_isAction_test_answers, test_predict))"
   ],
   "id": "c610471d1ca11c94",
   "outputs": [
    {
     "name": "stdout",
     "output_type": "stream",
     "text": [
      "0.8571428571428571\n"
     ]
    }
   ],
   "execution_count": 557
  },
  {
   "metadata": {
    "ExecuteTime": {
     "end_time": "2024-05-06T02:41:57.931906Z",
     "start_time": "2024-05-06T02:41:57.927551Z"
    }
   },
   "cell_type": "code",
   "source": [
    "from sklearn.linear_model import SGDClassifier\n",
    "\n",
    "model = SGDClassifier()\n",
    "model.fit(df_isAction_learn, df_isAction_learn_answers)\n",
    "# 分類\n",
    "test_predict = model.predict(df_isAction_test)\n",
    "print(accuracy_score(df_isAction_test_answers, test_predict))"
   ],
   "id": "867010e8c13206e8",
   "outputs": [
    {
     "name": "stdout",
     "output_type": "stream",
     "text": [
      "0.6190476190476191\n"
     ]
    }
   ],
   "execution_count": 558
  },
  {
   "metadata": {
    "ExecuteTime": {
     "end_time": "2024-05-06T02:41:57.938808Z",
     "start_time": "2024-05-06T02:41:57.934140Z"
    }
   },
   "cell_type": "code",
   "source": [
    "from sklearn.linear_model import Perceptron\n",
    "\n",
    "model = Perceptron()\n",
    "model.fit(df_isAction_learn, df_isAction_learn_answers)\n",
    "# 分類\n",
    "test_predict = model.predict(df_isAction_test)\n",
    "print(accuracy_score(df_isAction_test_answers, test_predict))"
   ],
   "id": "7169ec97bf0daf99",
   "outputs": [
    {
     "name": "stdout",
     "output_type": "stream",
     "text": [
      "0.6190476190476191\n"
     ]
    }
   ],
   "execution_count": 559
  },
  {
   "metadata": {
    "ExecuteTime": {
     "end_time": "2024-05-06T02:41:57.943784Z",
     "start_time": "2024-05-06T02:41:57.939509Z"
    }
   },
   "cell_type": "code",
   "source": [
    "from sklearn.linear_model import Perceptron\n",
    "\n",
    "model = Perceptron(random_state=3)\n",
    "model.fit(df_isAction_learn, df_isAction_learn_answers)\n",
    "# 分類\n",
    "test_predict = model.predict(df_isAction_test)\n",
    "print(accuracy_score(df_isAction_test_answers, test_predict))"
   ],
   "id": "2bdd93ca10bba72d",
   "outputs": [
    {
     "name": "stdout",
     "output_type": "stream",
     "text": [
      "0.38095238095238093\n"
     ]
    }
   ],
   "execution_count": 560
  },
  {
   "metadata": {
    "ExecuteTime": {
     "end_time": "2024-05-06T02:41:57.948455Z",
     "start_time": "2024-05-06T02:41:57.944530Z"
    }
   },
   "cell_type": "code",
   "source": [
    "from sklearn.linear_model import PassiveAggressiveClassifier\n",
    "\n",
    "model = PassiveAggressiveClassifier()\n",
    "model.fit(df_isAction_learn, df_isAction_learn_answers)\n",
    "# 分類\n",
    "test_predict = model.predict(df_isAction_test)\n",
    "print(accuracy_score(df_isAction_test_answers, test_predict))"
   ],
   "id": "b97cb8d545baa4bd",
   "outputs": [
    {
     "name": "stdout",
     "output_type": "stream",
     "text": [
      "0.38095238095238093\n"
     ]
    }
   ],
   "execution_count": 561
  },
  {
   "metadata": {
    "ExecuteTime": {
     "end_time": "2024-05-06T02:41:57.955452Z",
     "start_time": "2024-05-06T02:41:57.949170Z"
    }
   },
   "cell_type": "code",
   "source": [
    "from sklearn.pipeline import make_pipeline\n",
    "from sklearn.preprocessing import StandardScaler\n",
    "from sklearn.svm import SVC\n",
    "\n",
    "model = make_pipeline(StandardScaler(), SVC())\n",
    "model.fit(df_isAction_learn, df_isAction_learn_answers)\n",
    "model.score(df_isAction_test, df_isAction_test_answers)"
   ],
   "id": "51824faade83f053",
   "outputs": [
    {
     "data": {
      "text/plain": [
       "0.6190476190476191"
      ]
     },
     "execution_count": 562,
     "metadata": {},
     "output_type": "execute_result"
    }
   ],
   "execution_count": 562
  },
  {
   "metadata": {
    "ExecuteTime": {
     "end_time": "2024-05-06T02:41:57.962470Z",
     "start_time": "2024-05-06T02:41:57.956191Z"
    }
   },
   "cell_type": "code",
   "source": [
    "from sklearn.svm import NuSVC\n",
    "\n",
    "model = make_pipeline(StandardScaler(), NuSVC())\n",
    "model.fit(df_isAction_learn, df_isAction_learn_answers)\n",
    "model.score(df_isAction_test, df_isAction_test_answers)"
   ],
   "id": "f3417330ebade5dd",
   "outputs": [
    {
     "data": {
      "text/plain": [
       "0.47619047619047616"
      ]
     },
     "execution_count": 563,
     "metadata": {},
     "output_type": "execute_result"
    }
   ],
   "execution_count": 563
  },
  {
   "metadata": {
    "ExecuteTime": {
     "end_time": "2024-05-06T02:41:57.976157Z",
     "start_time": "2024-05-06T02:41:57.963174Z"
    }
   },
   "cell_type": "code",
   "source": [
    "from sklearn.svm import LinearSVC\n",
    "\n",
    "model = make_pipeline(StandardScaler(), LinearSVC(dual=True))\n",
    "model.fit(df_isAction_learn, df_isAction_learn_answers)\n",
    "model.score(df_isAction_test, df_isAction_test_answers)"
   ],
   "id": "90be3b65986a84f2",
   "outputs": [
    {
     "name": "stderr",
     "output_type": "stream",
     "text": [
      "/Users/x0y14/dev/sotuken01/venv/lib/python3.9/site-packages/sklearn/svm/_base.py:1237: ConvergenceWarning: Liblinear failed to converge, increase the number of iterations.\n",
      "  warnings.warn(\n"
     ]
    },
    {
     "data": {
      "text/plain": [
       "0.5238095238095238"
      ]
     },
     "execution_count": 564,
     "metadata": {},
     "output_type": "execute_result"
    }
   ],
   "execution_count": 564
  },
  {
   "metadata": {
    "ExecuteTime": {
     "end_time": "2024-05-06T02:41:57.983139Z",
     "start_time": "2024-05-06T02:41:57.976952Z"
    }
   },
   "cell_type": "code",
   "source": [
    "from sklearn.neighbors import KNeighborsClassifier\n",
    "\n",
    "model = KNeighborsClassifier()\n",
    "model.fit(df_isAction_learn, df_isAction_learn_answers)\n",
    "model.score(df_isAction_test, df_isAction_test_answers)"
   ],
   "id": "4c8af3ca6ad39fd5",
   "outputs": [
    {
     "data": {
      "text/plain": [
       "0.6666666666666666"
      ]
     },
     "execution_count": 565,
     "metadata": {},
     "output_type": "execute_result"
    }
   ],
   "execution_count": 565
  },
  {
   "metadata": {
    "ExecuteTime": {
     "end_time": "2024-05-06T02:41:57.985983Z",
     "start_time": "2024-05-06T02:41:57.983895Z"
    }
   },
   "cell_type": "code",
   "source": [
    "# from sklearn.neighbors import RadiusNeighborsClassifier\n",
    "# \n",
    "# model = RadiusNeighborsClassifier()\n",
    "# model.fit(df_isAction_learn, df_isAction_learn_answers)\n",
    "# model.score(df_isAction_test, df_isAction_test_answers)"
   ],
   "id": "132217ecf1af561b",
   "outputs": [],
   "execution_count": 566
  },
  {
   "metadata": {
    "ExecuteTime": {
     "end_time": "2024-05-06T02:41:57.991093Z",
     "start_time": "2024-05-06T02:41:57.986597Z"
    }
   },
   "cell_type": "code",
   "source": [
    "from sklearn.neighbors import NearestCentroid\n",
    "\n",
    "model = NearestCentroid()\n",
    "model.fit(df_isAction_learn, df_isAction_learn_answers)\n",
    "model.score(df_isAction_test, df_isAction_test_answers)"
   ],
   "id": "d501bc985f301ee",
   "outputs": [
    {
     "data": {
      "text/plain": [
       "0.5238095238095238"
      ]
     },
     "execution_count": 567,
     "metadata": {},
     "output_type": "execute_result"
    }
   ],
   "execution_count": 567
  },
  {
   "metadata": {
    "ExecuteTime": {
     "end_time": "2024-05-06T02:42:00.623702Z",
     "start_time": "2024-05-06T02:41:57.991951Z"
    }
   },
   "cell_type": "code",
   "source": [
    "from sklearn.gaussian_process import GaussianProcessClassifier\n",
    "\n",
    "model = GaussianProcessClassifier()\n",
    "model.fit(df_isAction_learn, df_isAction_learn_answers)\n",
    "model.score(df_isAction_test, df_isAction_test_answers)"
   ],
   "id": "80dba3c1e80dbcb4",
   "outputs": [
    {
     "data": {
      "text/plain": [
       "0.6190476190476191"
      ]
     },
     "execution_count": 568,
     "metadata": {},
     "output_type": "execute_result"
    }
   ],
   "execution_count": 568
  },
  {
   "metadata": {
    "ExecuteTime": {
     "end_time": "2024-05-06T02:42:00.636888Z",
     "start_time": "2024-05-06T02:42:00.627559Z"
    }
   },
   "cell_type": "code",
   "source": [
    "from sklearn.naive_bayes import GaussianNB\n",
    "\n",
    "model = GaussianNB()\n",
    "model.fit(df_isAction_learn, df_isAction_learn_answers)\n",
    "model.score(df_isAction_test, df_isAction_test_answers)"
   ],
   "id": "d8556e86f6ce2371",
   "outputs": [
    {
     "data": {
      "text/plain": [
       "0.5714285714285714"
      ]
     },
     "execution_count": 569,
     "metadata": {},
     "output_type": "execute_result"
    }
   ],
   "execution_count": 569
  },
  {
   "metadata": {
    "ExecuteTime": {
     "end_time": "2024-05-06T02:42:00.643038Z",
     "start_time": "2024-05-06T02:42:00.639789Z"
    }
   },
   "cell_type": "code",
   "source": [
    "# from sklearn.naive_bayes import MultinomialNB\n",
    "# \n",
    "# model = MultinomialNB()\n",
    "# model.fit(df_isAction_learn, df_isAction_learn_answers)\n",
    "# model.score(df_isAction_test, df_isAction_test_answers)"
   ],
   "id": "61c7190bcc0dc788",
   "outputs": [],
   "execution_count": 570
  },
  {
   "metadata": {
    "ExecuteTime": {
     "end_time": "2024-05-06T02:42:00.650364Z",
     "start_time": "2024-05-06T02:42:00.646383Z"
    }
   },
   "cell_type": "code",
   "source": [
    "# from sklearn.naive_bayes import ComplementNB\n",
    "# \n",
    "# model = ComplementNB()\n",
    "# model.fit(df_isAction_learn, df_isAction_learn_answers)\n",
    "# model.score(df_isAction_test, df_isAction_test_answers)"
   ],
   "id": "33419faa3b96d1fb",
   "outputs": [],
   "execution_count": 571
  },
  {
   "metadata": {
    "ExecuteTime": {
     "end_time": "2024-05-06T02:42:00.662678Z",
     "start_time": "2024-05-06T02:42:00.652558Z"
    }
   },
   "cell_type": "code",
   "source": [
    "from sklearn.naive_bayes import BernoulliNB\n",
    "\n",
    "model = BernoulliNB()\n",
    "model.fit(df_isAction_learn, df_isAction_learn_answers)\n",
    "model.score(df_isAction_test, df_isAction_test_answers)"
   ],
   "id": "785fa4871f994164",
   "outputs": [
    {
     "data": {
      "text/plain": [
       "0.6190476190476191"
      ]
     },
     "execution_count": 572,
     "metadata": {},
     "output_type": "execute_result"
    }
   ],
   "execution_count": 572
  },
  {
   "metadata": {
    "ExecuteTime": {
     "end_time": "2024-05-06T02:42:00.698377Z",
     "start_time": "2024-05-06T02:42:00.695014Z"
    }
   },
   "cell_type": "code",
   "source": [
    "# from sklearn.naive_bayes import CategoricalNB\n",
    "# \n",
    "# model = CategoricalNB()\n",
    "# model.fit(df_isAction_learn, df_isAction_learn_answers)\n",
    "# model.score(df_isAction_test, df_isAction_test_answers)"
   ],
   "id": "bc31ba834f85c0ea",
   "outputs": [],
   "execution_count": 573
  },
  {
   "metadata": {
    "ExecuteTime": {
     "end_time": "2024-05-06T02:42:00.719148Z",
     "start_time": "2024-05-06T02:42:00.701475Z"
    }
   },
   "cell_type": "code",
   "source": [
    "from sklearn.tree import DecisionTreeClassifier\n",
    "\n",
    "model = DecisionTreeClassifier()\n",
    "model.fit(df_isAction_learn, df_isAction_learn_answers)\n",
    "model.score(df_isAction_test, df_isAction_test_answers)"
   ],
   "id": "ed7c50007a69a2cd",
   "outputs": [
    {
     "data": {
      "text/plain": [
       "0.6666666666666666"
      ]
     },
     "execution_count": 574,
     "metadata": {},
     "output_type": "execute_result"
    }
   ],
   "execution_count": 574
  }
 ],
 "metadata": {
  "kernelspec": {
   "display_name": "Python 3",
   "language": "python",
   "name": "python3"
  },
  "language_info": {
   "codemirror_mode": {
    "name": "ipython",
    "version": 2
   },
   "file_extension": ".py",
   "mimetype": "text/x-python",
   "name": "python",
   "nbconvert_exporter": "python",
   "pygments_lexer": "ipython2",
   "version": "2.7.6"
  }
 },
 "nbformat": 4,
 "nbformat_minor": 5
}
