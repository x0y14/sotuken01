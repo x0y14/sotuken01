{
 "cells": [
  {
   "metadata": {
    "ExecuteTime": {
     "end_time": "2024-05-05T06:17:18.949122Z",
     "start_time": "2024-05-05T06:17:18.928659Z"
    }
   },
   "cell_type": "code",
   "source": [
    "from lib.db import *\n",
    "\n",
    "# DEFINES\n",
    "DB_NAME = \"soundtrack.sqlite\"\n",
    "# 『劇場版ハイキュー‼ ゴミ捨て場の決戦』オリジナル・サウンドトラック\n",
    "SAMPLE_ALBUM_ID = \"6lGRAnmCrwobSnjZrt09CQ\"\n",
    "\n",
    "# DB SETUP\n",
    "conn = connect_db(DB_NAME)\n",
    "create_albums_table_if_not_exists(conn)\n",
    "create_tracks_table_if_not_exists(conn)\n",
    "create_genres_table_if_not_exists(conn)\n",
    "\n",
    "sample_album = get_album(conn, SAMPLE_ALBUM_ID)\n",
    "sample_genre = get_genre(conn, SAMPLE_ALBUM_ID)\n",
    "sample_tracks = get_tracks(conn, SAMPLE_ALBUM_ID, 50, 0)\n",
    "print(\n",
    "    f\"{sample_album.name}({len(sample_tracks)}曲): {sample_genre.tags}\")  # 『劇場版ハイキュー‼ ゴミ捨て場の決戦』オリジナル・サウンドトラック: ['animation', 'comedy', 'drama']"
   ],
   "id": "ff7c990d6bbcca4c",
   "execution_count": 5,
   "outputs": []
  },
  {
   "metadata": {
    "ExecuteTime": {
     "end_time": "2024-05-05T06:33:01.495798Z",
     "start_time": "2024-05-05T06:33:01.485111Z"
    }
   },
   "cell_type": "code",
   "source": [
    "album_acousticness = []\n",
    "album_danceability = []\n",
    "album_duration_ms = []\n",
    "album_energy = []\n",
    "album_instrumentalness = []\n",
    "album_key = []\n",
    "album_liveness = []\n",
    "album_loudness = []\n",
    "album_mode = []\n",
    "album_speechiness = []\n",
    "album_tempo = []\n",
    "album_time_signature = []\n",
    "album_valence = []\n",
    "\n",
    "for track in sample_tracks:\n",
    "    album_acousticness.append(track.acousticness)\n",
    "    album_danceability.append(track.danceability)\n",
    "    album_duration_ms.append(track.duration_ms)\n",
    "    album_energy.append(track.energy)\n",
    "    album_instrumentalness.append(track.instrumentalness)\n",
    "    album_key.append(track.key)\n",
    "    album_liveness.append(track.liveness)\n",
    "    album_loudness.append(track.loudness)\n",
    "    album_mode.append(track.mode)\n",
    "    album_speechiness.append(track.speechiness)\n",
    "    album_tempo.append(track.tempo)\n",
    "    album_time_signature.append(track.time_signature)\n",
    "    album_valence.append(track.valence)\n",
    "\n",
    "album_matrix = [\n",
    "    album_acousticness,\n",
    "    album_danceability,\n",
    "    album_duration_ms,\n",
    "    album_energy,\n",
    "    album_instrumentalness,\n",
    "    album_key,\n",
    "    album_liveness,\n",
    "    album_loudness,\n",
    "    album_mode,\n",
    "    album_speechiness,\n",
    "    album_tempo,\n",
    "    album_time_signature,\n",
    "    album_valence\n",
    "]\n"
   ],
   "id": "c8b84892732c4172",
   "execution_count": 18,
   "outputs": []
  },
  {
   "metadata": {
    "ExecuteTime": {
     "end_time": "2024-05-05T06:33:22.742963Z",
     "start_time": "2024-05-05T06:33:22.739096Z"
    }
   },
   "cell_type": "code",
   "source": [
    "from sklearn.decomposition import PCA\n",
    "\n",
    "# PCAのインスタンスを作成\n",
    "pca = PCA(n_components=1)\n",
    "\n",
    "# PCAを適用\n",
    "album_pca = pca.fit_transform(album_matrix)\n",
    "print(album_pca)"
   ],
   "id": "b3e855151c0f41b8",
   "execution_count": 21,
   "outputs": []
  }
 ],
 "metadata": {
  "kernelspec": {
   "display_name": "Python 3",
   "language": "python",
   "name": "python3"
  },
  "language_info": {
   "codemirror_mode": {
    "name": "ipython",
    "version": 2
   },
   "file_extension": ".py",
   "mimetype": "text/x-python",
   "name": "python",
   "nbconvert_exporter": "python",
   "pygments_lexer": "ipython2",
   "version": "2.7.6"
  }
 },
 "nbformat": 4,
 "nbformat_minor": 5
}
