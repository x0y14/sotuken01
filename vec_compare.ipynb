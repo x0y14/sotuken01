{
 "cells": [
  {
   "metadata": {},
   "cell_type": "markdown",
   "source": "### 単純なベクトル比較",
   "id": "db9b91ce086e6e31"
  },
  {
   "cell_type": "code",
   "source": [
    "import numpy as np\n",
    "\n",
    "from lib.db import *\n",
    "\n",
    "DB_NAME = \"soundtrack.sqlite\"\n",
    "conn = connect_db(DB_NAME)"
   ],
   "metadata": {
    "collapsed": false,
    "ExecuteTime": {
     "end_time": "2024-04-17T03:22:04.364447Z",
     "start_time": "2024-04-17T03:22:04.356416Z"
    }
   },
   "id": "453636b775ed7447",
   "execution_count": 111,
   "outputs": []
  },
  {
   "metadata": {
    "ExecuteTime": {
     "end_time": "2024-04-17T03:22:04.504224Z",
     "start_time": "2024-04-17T03:22:04.500275Z"
    }
   },
   "cell_type": "code",
   "source": "albums = get_album_list(conn, limit=2, offset=0)",
   "id": "fc6199185e85fe92",
   "execution_count": 112,
   "outputs": []
  },
  {
   "metadata": {
    "ExecuteTime": {
     "end_time": "2024-04-17T03:22:04.523732Z",
     "start_time": "2024-04-17T03:22:04.506270Z"
    }
   },
   "cell_type": "code",
   "source": [
    "from lib.util import create_track_vec, inflate_data\n",
    "\n",
    "album1 = albums[0]\n",
    "tracks1 = get_tracks(conn, album1.id, 50, 0)\n",
    "album1_vecs = []\n",
    "for track in tracks1:\n",
    "    album1_vecs.append(create_track_vec(track))\n",
    "\n",
    "album2 = albums[1]\n",
    "tracks2 = get_tracks(conn, album2.id, 50, 0)\n",
    "album2_vecs = []\n",
    "for track in tracks2:\n",
    "    album2_vecs.append(create_track_vec(track))\n",
    "\n",
    "# データの個数が合わなければ、少ない方にゼロ埋めしたやつを追加してあげる。\n",
    "if len(album1_vecs) != len(album2_vecs):\n",
    "    if len(album1_vecs) > len(album2_vecs):\n",
    "        # a2はa1より少ない\n",
    "        album2_vecs = inflate_data(album2_vecs, len(album1_vecs) - len(album2_vecs), len(album1_vecs[0]))\n",
    "    else:\n",
    "        # a1はa2より少ない\n",
    "        album1_vecs = inflate_data(album1_vecs, len(album2_vecs) - len(album1_vecs), len(album1_vecs[0]))\n",
    "\n",
    "album1_array = np.array(album1_vecs)\n",
    "album2_array = np.array(album2_vecs)\n",
    "\n",
    "distance = np.linalg.norm(album2_array - album1_array)\n",
    "print(distance)\n"
   ],
   "id": "d1c938692dacc95a",
   "execution_count": 113,
   "outputs": []
  },
  {
   "metadata": {
    "ExecuteTime": {
     "end_time": "2024-04-17T03:22:04.529433Z",
     "start_time": "2024-04-17T03:22:04.526498Z"
    }
   },
   "cell_type": "code",
   "source": "",
   "id": "d1f4fdad8245d1a2",
   "execution_count": 113,
   "outputs": []
  }
 ],
 "metadata": {
  "kernelspec": {
   "name": "python3",
   "language": "python",
   "display_name": "Python 3 (ipykernel)"
  }
 },
 "nbformat": 4,
 "nbformat_minor": 5
}
