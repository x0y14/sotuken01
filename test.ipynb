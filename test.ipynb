{
 "cells": [
  {
   "cell_type": "code",
   "id": "initial_id",
   "metadata": {
    "collapsed": true,
    "ExecuteTime": {
     "end_time": "2024-05-05T06:26:19.023077Z",
     "start_time": "2024-05-05T06:26:18.976001Z"
    }
   },
   "source": [
    "import numpy as np\n",
    "from sklearn.decomposition import PCA\n",
    "\n",
    "# numpyの行列を作成\n",
    "matrix = np.array([[1, 2, 3], [3, 4, 5], [5, 6, 7]])\n",
    "\n",
    "# PCAのインスタンスを作成\n",
    "pca = PCA(n_components=1)\n",
    "\n",
    "# PCAを適用\n",
    "matrix_pca = pca.fit_transform(matrix)\n",
    "\n",
    "print(matrix_pca)"
   ],
   "outputs": [
    {
     "name": "stdout",
     "output_type": "stream",
     "text": [
      "[[0.]]\n"
     ]
    },
    {
     "name": "stderr",
     "output_type": "stream",
     "text": [
      "/Users/x0y14/dev/sotuken01/venv/lib/python3.9/site-packages/sklearn/decomposition/_pca.py:557: RuntimeWarning: invalid value encountered in divide\n",
      "  explained_variance_ = (S**2) / (n_samples - 1)\n"
     ]
    }
   ],
   "execution_count": 13
  },
  {
   "metadata": {},
   "cell_type": "code",
   "outputs": [],
   "execution_count": null,
   "source": "",
   "id": "4677da836363bac4"
  }
 ],
 "metadata": {
  "kernelspec": {
   "display_name": "Python 3",
   "language": "python",
   "name": "python3"
  },
  "language_info": {
   "codemirror_mode": {
    "name": "ipython",
    "version": 2
   },
   "file_extension": ".py",
   "mimetype": "text/x-python",
   "name": "python",
   "nbconvert_exporter": "python",
   "pygments_lexer": "ipython2",
   "version": "2.7.6"
  }
 },
 "nbformat": 4,
 "nbformat_minor": 5
}
